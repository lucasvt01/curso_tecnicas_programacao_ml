{
 "cells": [
  {
   "attachments": {},
   "cell_type": "markdown",
   "metadata": {},
   "source": [
    "### Operações básicas"
   ]
  },
  {
   "cell_type": "code",
   "execution_count": 2,
   "metadata": {},
   "outputs": [
    {
     "name": "stdout",
     "output_type": "stream",
     "text": [
      "A soma de 5 e 3 é igual a 8\n"
     ]
    }
   ],
   "source": [
    "a = 5\n",
    "b = 3\n",
    "soma = a + b\n",
    "print(\"A soma de\", a, \"e\", b, \"é igual a\", soma)"
   ]
  },
  {
   "cell_type": "code",
   "execution_count": 3,
   "metadata": {},
   "outputs": [
    {
     "name": "stdout",
     "output_type": "stream",
     "text": [
      "A subtração de 10 e 4 é igual a 6\n"
     ]
    }
   ],
   "source": [
    "a = 10\n",
    "b = 4\n",
    "subtracao = a - b\n",
    "print(\"A subtração de\", a, \"e\", b, \"é igual a\", subtracao)"
   ]
  },
  {
   "cell_type": "code",
   "execution_count": 4,
   "metadata": {},
   "outputs": [
    {
     "name": "stdout",
     "output_type": "stream",
     "text": [
      "A divisão de 15 por 3 é igual a 5.0\n"
     ]
    }
   ],
   "source": [
    "a = 15\n",
    "b = 3\n",
    "divisao = a / b\n",
    "print(\"A divisão de\", a, \"por\", b, \"é igual a\", divisao)"
   ]
  },
  {
   "cell_type": "code",
   "execution_count": 16,
   "metadata": {},
   "outputs": [
    {
     "name": "stdout",
     "output_type": "stream",
     "text": [
      "O resto da divisão de 19.5 por 4 é igual a 3.5\n"
     ]
    }
   ],
   "source": [
    "a = 19.5\n",
    "b = 4\n",
    "resto = a % b\n",
    "print(\"O resto da divisão de\", a, \"por\", b, \"é igual a\", resto)"
   ]
  },
  {
   "cell_type": "code",
   "execution_count": 37,
   "metadata": {},
   "outputs": [],
   "source": [
    "def Resto(a = 10,b = 2):\n",
    "    resto = a % b\n",
    "    print(\"O resto da divisão de\", a, \"por\", b, \"é igual a\", resto)\n",
    "    return resto"
   ]
  },
  {
   "cell_type": "code",
   "execution_count": 32,
   "metadata": {},
   "outputs": [
    {
     "name": "stdout",
     "output_type": "stream",
     "text": [
      "O resto da divisão de 12 por 4 é igual a 0\n"
     ]
    }
   ],
   "source": [
    "valor1=Resto(a = 12,b = 4)"
   ]
  },
  {
   "cell_type": "code",
   "execution_count": 38,
   "metadata": {},
   "outputs": [
    {
     "name": "stdout",
     "output_type": "stream",
     "text": [
      "O resto da divisão de 10 por 2 é igual a 0\n"
     ]
    },
    {
     "data": {
      "text/plain": [
       "0"
      ]
     },
     "execution_count": 38,
     "metadata": {},
     "output_type": "execute_result"
    }
   ],
   "source": [
    "Resto()"
   ]
  },
  {
   "cell_type": "code",
   "execution_count": 33,
   "metadata": {},
   "outputs": [
    {
     "data": {
      "text/plain": [
       "0"
      ]
     },
     "execution_count": 33,
     "metadata": {},
     "output_type": "execute_result"
    }
   ],
   "source": [
    "valor1"
   ]
  },
  {
   "cell_type": "code",
   "execution_count": 34,
   "metadata": {},
   "outputs": [
    {
     "name": "stdout",
     "output_type": "stream",
     "text": [
      "ok\n"
     ]
    }
   ],
   "source": [
    "if valor1 == 0 and valor1 % 4 == 0:\n",
    "    print(\"ok\")"
   ]
  },
  {
   "cell_type": "code",
   "execution_count": 35,
   "metadata": {},
   "outputs": [
    {
     "name": "stdout",
     "output_type": "stream",
     "text": [
      "ok\n"
     ]
    }
   ],
   "source": [
    "if valor1 == 0 or valor1 == True:\n",
    "    print(\"ok\")"
   ]
  },
  {
   "attachments": {},
   "cell_type": "markdown",
   "metadata": {},
   "source": [
    "Desafio: Escreva uma função chamada \"verificar_primo\" que recebe um número inteiro como parâmetro e retorna True se o número for primo e False caso contrário. Um número primo é aquele que é divisível apenas por 1 e por ele mesmo.\n",
    "\n",
    "Dica: Para verificar se um número é primo, você pode percorrer todos os números de 2 até a raiz quadrada desse número e verificar se algum deles é divisor do número em questão.\n",
    "\n"
   ]
  },
  {
   "cell_type": "code",
   "execution_count": 10,
   "metadata": {},
   "outputs": [],
   "source": [
    "import math"
   ]
  },
  {
   "cell_type": "code",
   "execution_count": 13,
   "metadata": {},
   "outputs": [
    {
     "data": {
      "text/plain": [
       "0.0"
      ]
     },
     "execution_count": 13,
     "metadata": {},
     "output_type": "execute_result"
    }
   ],
   "source": [
    "math.log(1)"
   ]
  },
  {
   "attachments": {},
   "cell_type": "markdown",
   "metadata": {},
   "source": [
    "Resposta"
   ]
  },
  {
   "cell_type": "code",
   "execution_count": 42,
   "metadata": {},
   "outputs": [
    {
     "name": "stdout",
     "output_type": "stream",
     "text": [
      "1\n",
      "True\n"
     ]
    }
   ],
   "source": [
    "import math\n",
    "\n",
    "def verificar_primo(numero):\n",
    "    if numero < 2:\n",
    "        return False\n",
    "    \n",
    "    for i in range(2, int(math.sqrt(numero)) + 1):\n",
    "        print(numero % i)\n",
    "        if numero % i == 0:\n",
    "            return False\n",
    "    \n",
    "    return True\n",
    "\n",
    "# Testando a função com alguns números\n",
    "print(verificar_primo(7))  # True\n",
    "#print(verificar_primo(16))  # False\n",
    "#print(verificar_primo(29))  # True"
   ]
  },
  {
   "cell_type": "code",
   "execution_count": null,
   "metadata": {},
   "outputs": [],
   "source": []
  },
  {
   "attachments": {},
   "cell_type": "markdown",
   "metadata": {},
   "source": [
    "### Funções nativas"
   ]
  },
  {
   "cell_type": "code",
   "execution_count": 44,
   "metadata": {},
   "outputs": [
    {
     "name": "stdout",
     "output_type": "stream",
     "text": [
      "10\n",
      "3\n",
      "2\n"
     ]
    }
   ],
   "source": [
    "numero_texto = \"10\"\n",
    "numero = int(numero_texto)\n",
    "print(numero)  # Saída: 10\n",
    "\n",
    "valor = 3.14\n",
    "valor_inteiro = int(valor)\n",
    "print(valor_inteiro)  # Saída: 3\n",
    "\n",
    "texto = \"2.71828\"\n",
    "numero_decimal = float(texto)\n",
    "print(numero_decimal)  # Saída: 2.71828\n"
   ]
  },
  {
   "cell_type": "code",
   "execution_count": null,
   "metadata": {},
   "outputs": [],
   "source": [
    "math.radians()"
   ]
  },
  {
   "cell_type": "code",
   "execution_count": 47,
   "metadata": {},
   "outputs": [
    {
     "name": "stdout",
     "output_type": "stream",
     "text": [
      "1.0 6.123233995736766e-17\n",
      "7.38905609893065 3.3219280948873626\n",
      "4\n"
     ]
    }
   ],
   "source": [
    "import math\n",
    "\n",
    "# Funções trigonométricas\n",
    "angulo = math.pi / 2\n",
    "seno = math.sin(angulo)\n",
    "cosseno = math.cos(angulo)\n",
    "print(seno, cosseno)  # Saída: 1.0, 6.123233995736766e-17\n",
    "\n",
    "# Funções exponenciais e logarítmicas\n",
    "expoente = 2\n",
    "exponencial = math.exp(expoente)\n",
    "logaritmo = math.log(10, 2)\n",
    "print(exponencial, logaritmo)  # Saída: 7.3890560989306495, 3.3219280948873626\n",
    "\n",
    "# Funções de arredondamento\n",
    "valor = 3.5\n",
    "valor_arredondado = round(valor)\n",
    "print(valor_arredondado)  # Saída: 4\n"
   ]
  },
  {
   "cell_type": "code",
   "execution_count": 48,
   "metadata": {},
   "outputs": [
    {
     "name": "stdout",
     "output_type": "stream",
     "text": [
      "46\n",
      "PYTHON É UMA LINGUAGEM DE PROGRAMAÇÃO PODEROSA\n",
      "python é uma linguagem de programação poderosa\n",
      "Python\n"
     ]
    }
   ],
   "source": [
    "texto = \"Python é uma linguagem de programação poderosa\"\n",
    "tamanho = len(texto)\n",
    "print(tamanho)  # Saída: 42\n",
    "\n",
    "maiusculo = texto.upper()\n",
    "minusculo = texto.lower()\n",
    "print(maiusculo)  # Saída: PYTHON É UMA LINGUAGEM DE PROGRAMAÇÃO PODEROSA\n",
    "print(minusculo)  # Saída: python é uma linguagem de programação poderosa\n",
    "\n",
    "substring = texto[0:6]\n",
    "print(substring)  # Saída: Python\n"
   ]
  },
  {
   "cell_type": "code",
   "execution_count": null,
   "metadata": {},
   "outputs": [],
   "source": [
    "nome = input(\"Digite seu nome: \")\n",
    "print(\"Olá, \" + nome + \"! Bem-vindo(a) ao programa.\")\n"
   ]
  },
  {
   "attachments": {},
   "cell_type": "markdown",
   "metadata": {},
   "source": [
    "Desafio: Escreva um programa em Python que receba uma frase como entrada do usuário e execute as seguintes operações:\n",
    "\n",
    "Conte o número total de caracteres na frase (incluindo espaços em branco).\n",
    "Converta a frase para letras maiúsculas.\n",
    "Verifique se a frase contém a palavra \"Python\".\n",
    "Substitua todas as ocorrências da letra 'a' na frase pela letra 'o'.\n",
    "Divida a frase em uma lista de palavras.\n",
    "Dica: Utilize as funções nativas len(), upper(), in, replace(), split().\n",
    "\n"
   ]
  },
  {
   "cell_type": "code",
   "execution_count": null,
   "metadata": {},
   "outputs": [],
   "source": [
    "frase = input(\"Digite uma frase: \")\n",
    "\n",
    "# Contar o número total de caracteres na frase\n",
    "total_caracteres = len(frase)\n",
    "print(\"Total de caracteres na frase:\", total_caracteres)\n",
    "\n",
    "# Converter a frase para letras maiúsculas\n",
    "frase_maiuscula = frase.upper()\n",
    "print(\"Frase em letras maiúsculas:\", frase_maiuscula)\n",
    "\n",
    "# Verificar se a frase contém a palavra \"Python\"\n",
    "contem_python = \"Python\" in frase\n",
    "print(\"A frase contém a palavra 'Python':\", contem_python)\n",
    "\n",
    "# Substituir todas as ocorrências da letra 'a' pela letra 'o'\n",
    "frase_substituida = frase.replace('a', 'o')\n",
    "print(\"Frase com substituição de 'a' por 'o':\", frase_substituida)\n",
    "\n",
    "# Dividir a frase em uma lista de palavras\n",
    "lista_palavras = frase.split()\n",
    "print(\"Lista de palavras na frase:\", lista_palavras)\n"
   ]
  },
  {
   "cell_type": "code",
   "execution_count": null,
   "metadata": {},
   "outputs": [],
   "source": [
    "frase = \"Olá, como vai você hoje?\"\n",
    "palavras = frase.split()\n",
    "print(palavras)\n",
    "# Rodar no terminal\n"
   ]
  },
  {
   "attachments": {},
   "cell_type": "markdown",
   "metadata": {},
   "source": [
    "Desafio: Escreva um programa em Python que receba uma lista de números do usuário e realize as seguintes operações:\n",
    "\n",
    "Calcule a soma de todos os números na lista.\n",
    "Encontre o maior número na lista.\n",
    "Encontre o menor número na lista.\n",
    "Ordene os números em ordem crescente.\n",
    "Crie uma nova lista que contenha apenas os números pares da lista original.\n",
    "Dica: Utilize as funções nativas sum(), max(), min(), sorted() e uma compreensão de lista para criar a nova lista."
   ]
  },
  {
   "cell_type": "code",
   "execution_count": null,
   "metadata": {},
   "outputs": [],
   "source": [
    "# Receber a lista de números do usuário\n",
    "numeros = input(\"Digite uma lista de números separados por espaço: \").split()\n",
    "numeros = [int(num) for num in numeros]\n",
    "\n",
    "# Calcular a soma de todos os números na lista\n",
    "soma = sum(numeros)\n",
    "print(\"A soma dos números é:\", soma)\n",
    "\n",
    "# Encontrar o maior número na lista\n",
    "maior_numero = max(numeros)\n",
    "print(\"O maior número é:\", maior_numero)\n",
    "\n",
    "# Encontrar o menor número na lista\n",
    "menor_numero = min(numeros)\n",
    "print(\"O menor número é:\", menor_numero)\n",
    "\n",
    "# Ordenar os números em ordem crescente\n",
    "numeros_ordenados = sorted(numeros)\n",
    "print(\"Números ordenados:\", numeros_ordenados)\n",
    "\n",
    "# Criar uma nova lista com os números pares da lista original\n",
    "numeros_pares = [num for num in numeros if num % 2 == 0]\n",
    "print(\"Números pares:\", numeros_pares)\n"
   ]
  },
  {
   "cell_type": "code",
   "execution_count": null,
   "metadata": {},
   "outputs": [],
   "source": []
  }
 ],
 "metadata": {
  "kernelspec": {
   "display_name": "Python 3",
   "language": "python",
   "name": "python3"
  },
  "language_info": {
   "codemirror_mode": {
    "name": "ipython",
    "version": 3
   },
   "file_extension": ".py",
   "mimetype": "text/x-python",
   "name": "python",
   "nbconvert_exporter": "python",
   "pygments_lexer": "ipython3",
   "version": "3.9.12"
  },
  "orig_nbformat": 4
 },
 "nbformat": 4,
 "nbformat_minor": 2
}
