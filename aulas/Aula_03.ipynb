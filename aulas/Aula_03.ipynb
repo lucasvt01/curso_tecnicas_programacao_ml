{
 "cells": [
  {
   "attachments": {},
   "cell_type": "markdown",
   "metadata": {},
   "source": [
    "## Funções"
   ]
  },
  {
   "cell_type": "code",
   "execution_count": 4,
   "metadata": {},
   "outputs": [
    {
     "name": "stdout",
     "output_type": "stream",
     "text": [
      "7\n",
      "1\n",
      "Olá, usuário!\n",
      "Olá, Maria!\n"
     ]
    }
   ],
   "source": [
    "# Definindo uma função\n",
    "def somar(a=0, b=1):\n",
    "    return a + b\n",
    "\n",
    "# Chamando a função\n",
    "resultado = somar(3, 4)\n",
    "print(resultado)  # Saída: 7\n",
    "resultado2=somar()\n",
    "print(resultado2)\n",
    "\n",
    "# Função com argumentos padrão\n",
    "def saudacao(nome='usuário'):\n",
    "    print(f'Olá, {nome}!')\n",
    "\n",
    "saudacao() \n",
    "saudacao('Maria') \n"
   ]
  },
  {
   "attachments": {},
   "cell_type": "markdown",
   "metadata": {},
   "source": [
    "## TUPLAS"
   ]
  },
  {
   "cell_type": "code",
   "execution_count": 5,
   "metadata": {},
   "outputs": [
    {
     "name": "stdout",
     "output_type": "stream",
     "text": [
      "maçã\n",
      "maçã\n",
      "banana\n",
      "laranja\n",
      "('maçã', 'banana', 'laranja', 'abacaxi', 'uva')\n"
     ]
    }
   ],
   "source": [
    "# Criando uma tupla\n",
    "frutas = ('maçã', 'banana', 'laranja')\n",
    "\n",
    "# Acessando elementos da tupla\n",
    "print(frutas[0])  # Saída: maçã\n",
    "\n",
    "# Iterando sobre uma tupla\n",
    "for fruta in frutas:\n",
    "    print(fruta)\n",
    "\n",
    "# Concatenando tuplas\n",
    "outras_frutas = ('abacaxi', 'uva')\n",
    "frutas_concatenadas = frutas + outras_frutas\n",
    "print(frutas_concatenadas)  \n"
   ]
  },
  {
   "attachments": {},
   "cell_type": "markdown",
   "metadata": {},
   "source": [
    "### Lista"
   ]
  },
  {
   "cell_type": "code",
   "execution_count": 8,
   "metadata": {},
   "outputs": [
    {
     "name": "stdout",
     "output_type": "stream",
     "text": [
      "1\n",
      "1\n",
      "2\n",
      "7\n",
      "4\n",
      "5\n",
      "[1, 2, 7, 4, 5, 6]\n",
      "[7, 6, 5, 4, 2, 1]\n"
     ]
    }
   ],
   "source": [
    "# Criando uma lista\n",
    "numeros = [1, 2, 7, 4, 5]\n",
    "\n",
    "# Acessando elementos da lista\n",
    "print(numeros[0])  # Saída: 1\n",
    "\n",
    "# Iterando sobre uma lista\n",
    "for numero in numeros:\n",
    "    print(numero)\n",
    "\n",
    "# Adicionando elementos à lista\n",
    "numeros.append(6)\n",
    "print(numeros)  \n",
    "\n",
    "# Ordenando uma lista\n",
    "numeros.sort(reverse=True)\n",
    "print(numeros) \n"
   ]
  },
  {
   "attachments": {},
   "cell_type": "markdown",
   "metadata": {},
   "source": [
    "### Input para relembrar"
   ]
  },
  {
   "cell_type": "code",
   "execution_count": 9,
   "metadata": {},
   "outputs": [
    {
     "name": "stdout",
     "output_type": "stream",
     "text": [
      "Olá, Lucas! Bem-vindo!\n"
     ]
    }
   ],
   "source": [
    "nome = input(\"Digite o seu nome: \")\n",
    "print(\"Olá, \" + nome + \"! Bem-vindo!\")\n"
   ]
  },
  {
   "attachments": {},
   "cell_type": "markdown",
   "metadata": {},
   "source": [
    "Desafio: Simulação de lançamento de projétil\n",
    "\n",
    "Descrição: Crie um programa em Python que simule o lançamento de um projétil, considerando a mecânica clássica. O usuário deverá fornecer a velocidade inicial e o ângulo de lançamento do projétil. O programa deverá calcular e exibir a altura máxima atingida e o alcance horizontal do projétil.\n",
    "\n",
    "Instruções:\n",
    "\n",
    "Solicite ao usuário a velocidade inicial (em metros por segundo) e o ângulo de lançamento (em graus).\n",
    "Converta o ângulo de graus para radianos.\n",
    "Calcule a componente horizontal da velocidade inicial (Vx) multiplicando a velocidade inicial pelo cosseno do ângulo.\n",
    "Calcule a componente vertical da velocidade inicial (Vy) multiplicando a velocidade inicial pelo seno do ângulo.\n",
    "Crie uma função chamada calcular_altura que recebe o tempo (t), a velocidade inicial vertical (Vy) e a aceleração da gravidade (g), e retorna a altura (h) em metros. Utilize a fórmula: h = Vy * t - 0.5 * g * t^2.\n",
    "Crie uma lista chamada alturas vazia.\n",
    "Utilize um loop para calcular a altura em intervalos regulares de tempo (por exemplo, de 0 a 10 segundos, com incrementos de 0,1 segundo) e armazenar as alturas na lista alturas.\n",
    "Encontre a altura máxima na lista alturas e armazene em uma variável chamada altura_maxima.\n",
    "Calcule o tempo total de voo dividindo o dobro da velocidade inicial vertical pela aceleração da gravidade e armazene em uma variável chamada tempo_total.\n",
    "Calcule o alcance horizontal multiplicando a componente horizontal da velocidade inicial (Vx) pelo tempo total de voo e armazene em uma variável chamada alcance_horizontal.\n",
    "Exiba a altura máxima atingida e o alcance horizontal do projétil.\n",
    "Dica: Para calcular a altura máxima, você pode iterar sobre os valores de tempo e calcular a altura correspondente em cada ponto, armazenando os resultados em uma lista. Em seguida, encontre o valor máximo na lista de alturas"
   ]
  },
  {
   "cell_type": "code",
   "execution_count": 56,
   "metadata": {},
   "outputs": [
    {
     "name": "stdout",
     "output_type": "stream",
     "text": [
      "0.008726646259971648\n",
      "1.9999238461283426\n",
      "0.01745307099674787\n",
      "[0.0, -0.048254692900325226, -0.19650938580065047, -0.4447640787009758, -0.793018771601301, -1.2412734645016261, -1.789528157401951, -2.437782850302276, -3.186037543202601, -4.034292236102925, -4.982546929003251]\n"
     ]
    },
    {
     "data": {
      "text/plain": [
       "[0.0,\n",
       " -0.048254692900325226,\n",
       " -0.19650938580065047,\n",
       " -0.4447640787009758,\n",
       " -0.793018771601301,\n",
       " -1.2412734645016261,\n",
       " -1.789528157401951,\n",
       " -2.437782850302276,\n",
       " -3.186037543202601,\n",
       " -4.034292236102925,\n",
       " -4.982546929003251]"
      ]
     },
     "execution_count": 56,
     "metadata": {},
     "output_type": "execute_result"
    }
   ],
   "source": [
    "import math\n",
    "\n",
    "\n",
    "velocidade_inicial = input(\"Digite a velocidade inicial: \")\n",
    "angulo = input(\"Digite o ângulo: \")\n",
    "\n",
    "angulo_em_radiano=math.radians(float(angulo))\n",
    "#print(angulo_em_radiano)\n",
    "\n",
    "v0=float(velocidade_inicial)\n",
    "teta=angulo_em_radiano\n",
    "\n",
    "vox=v0*math.cos(teta)\n",
    "#print(vox)\n",
    "voy=v0*math.sin(teta)\n",
    "#print(voy)\n",
    "\n",
    "def calcular_altura(t,vy,g=10):\n",
    "    \n",
    "    alturas=[]\n",
    "    for ts in range(0,11):\n",
    "\n",
    "        altura=vy*t -0.5*g*t**2\n",
    "        t = t + 0.1\n",
    "        \n",
    "        alturas.append(altura)\n",
    "\n",
    "    print(alturas)\n",
    "\n",
    "    return alturas\n",
    "calcular_altura(t=0,vy=voy)\n"
   ]
  },
  {
   "attachments": {},
   "cell_type": "markdown",
   "metadata": {},
   "source": [
    "##  Solução"
   ]
  },
  {
   "cell_type": "code",
   "execution_count": 1,
   "metadata": {},
   "outputs": [
    {
     "name": "stdout",
     "output_type": "stream",
     "text": [
      "Altura máxima atingida: 0.09 metros\n",
      "Alcance horizontal: 0.41 metros\n"
     ]
    }
   ],
   "source": [
    "import math\n",
    "\n",
    "def calcular_altura(t, Vy, g):\n",
    "    return Vy * t - 0.5 * g * t**2\n",
    "\n",
    "velocidade_inicial = float(input(\"Digite a velocidade inicial (em metros por segundo): \"))\n",
    "angulo_lancamento = float(input(\"Digite o ângulo de lançamento (em graus): \"))\n",
    "\n",
    "# Converter o ângulo de graus para radianos\n",
    "angulo_radianos = math.radians(angulo_lancamento)\n",
    "\n",
    "# Calcular as componentes horizontal (Vx) e vertical (Vy) da velocidade inicial\n",
    "Vx = velocidade_inicial * math.cos(angulo_radianos)\n",
    "Vy = velocidade_inicial * math.sin(angulo_radianos)\n",
    "\n",
    "# Definir a aceleração da gravidade (em metros por segundo ao quadrado)\n",
    "g = 9.8\n",
    "\n",
    "# Calcular a altura máxima e o alcance horizontal\n",
    "alturas = []\n",
    "tempo_total = (2 * Vy) / g\n",
    "for t in range(0, int(tempo_total * 10) + 1):\n",
    "    t = t / 10\n",
    "    h = calcular_altura(t, Vy, g)\n",
    "    alturas.append(h)\n",
    "\n",
    "altura_maxima = max(alturas)\n",
    "alcance_horizontal = Vx * tempo_total\n",
    "\n",
    "# Exibir os resultados\n",
    "print(\"Altura máxima atingida: {:.2f} metros\".format(altura_maxima))\n",
    "print(\"Alcance horizontal: {:.2f} metros\".format(alcance_horizontal))\n"
   ]
  },
  {
   "attachments": {},
   "cell_type": "markdown",
   "metadata": {},
   "source": [
    "### Outras funções"
   ]
  },
  {
   "cell_type": "code",
   "execution_count": null,
   "metadata": {},
   "outputs": [],
   "source": [
    "lista = [1, 2, 3, 4, 5]\n",
    "tamanho = len(lista)\n",
    "print(\"Tamanho da lista:\", tamanho)  # Saída: 5\n",
    "\n",
    "texto = \"Olá, mundo!\"\n",
    "tamanho = len(texto)\n",
    "print(\"Tamanho do texto:\", tamanho)  # Saída: 12\n"
   ]
  },
  {
   "cell_type": "code",
   "execution_count": null,
   "metadata": {},
   "outputs": [],
   "source": [
    "numero = 10\n",
    "tipo = type(numero)\n",
    "print(\"Tipo de dado:\", tipo)  # Saída: <class 'int'>\n",
    "\n",
    "texto = \"Olá, mundo!\"\n",
    "tipo = type(texto)\n",
    "print(\"Tipo de dado:\", tipo)  # Saída: <class 'str'>\n"
   ]
  },
  {
   "cell_type": "code",
   "execution_count": null,
   "metadata": {},
   "outputs": [],
   "source": [
    "numeros = [4, 2, 9, 5, 1]\n",
    "maior = max(numeros)\n",
    "print(\"Maior número:\", maior)  # Saída: 9\n",
    "\n",
    "a = 10\n",
    "b = 7\n",
    "maior = max(a, b)\n",
    "print(\"Maior valor:\", maior)  # Saída: 10\n"
   ]
  },
  {
   "cell_type": "code",
   "execution_count": null,
   "metadata": {},
   "outputs": [],
   "source": [
    "numeros = [4, 2, 9, 5, 1]\n",
    "menor = min(numeros)\n",
    "print(\"Menor número:\", menor)  # Saída: 1\n",
    "\n",
    "a = 10\n",
    "b = 7\n",
    "menor = min(a, b)\n",
    "print(\"Menor valor:\", menor)  # Saída: 7\n"
   ]
  }
 ],
 "metadata": {
  "kernelspec": {
   "display_name": "base",
   "language": "python",
   "name": "python3"
  },
  "language_info": {
   "codemirror_mode": {
    "name": "ipython",
    "version": 3
   },
   "file_extension": ".py",
   "mimetype": "text/x-python",
   "name": "python",
   "nbconvert_exporter": "python",
   "pygments_lexer": "ipython3",
   "version": "3.9.12"
  },
  "orig_nbformat": 4
 },
 "nbformat": 4,
 "nbformat_minor": 2
}
