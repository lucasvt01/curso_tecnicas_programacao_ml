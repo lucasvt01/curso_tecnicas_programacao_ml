{
 "cells": [
  {
   "attachments": {},
   "cell_type": "markdown",
   "metadata": {},
   "source": [
    "## Dicionários"
   ]
  },
  {
   "cell_type": "code",
   "execution_count": 1,
   "metadata": {},
   "outputs": [
    {
     "name": "stdout",
     "output_type": "stream",
     "text": [
      "Jen\n",
      "Sarah\n",
      "\tSarah, eu sei que você ama C!\n",
      "Edward\n",
      "Phil\n",
      "\tPhil, eu sei que você ama Python!\n"
     ]
    }
   ],
   "source": [
    "favorite_languages = {\n",
    "    'jen': 'python',\n",
    "    'sarah': 'c',\n",
    "    'edward': 'ruby',\n",
    "    'phil': 'python',\n",
    "    }\n",
    "\n",
    "friends = ['phil', 'sarah']\n",
    "for name in favorite_languages.keys():\n",
    "    print(name.title())\n",
    "    \n",
    "    if name in friends:\n",
    "        language = favorite_languages[name].title()\n",
    "        print(f\"\\t{name.title()}, eu sei que você ama {language}!\")"
   ]
  },
  {
   "cell_type": "code",
   "execution_count": 2,
   "metadata": {},
   "outputs": [
    {
     "name": "stdout",
     "output_type": "stream",
     "text": [
      "\n",
      "Username: aeinstein\n",
      "\tNome completo: Albert Einstein\n",
      "\tLocalização: Princeton\n",
      "\n",
      "Username: mcurie\n",
      "\tNome completo: Marie Curie\n",
      "\tLocalização: Paris\n"
     ]
    }
   ],
   "source": [
    "users = {\n",
    "    'aeinstein': {\n",
    "        'first': 'albert',\n",
    "        'last': 'einstein',\n",
    "        'location': 'princeton',\n",
    "        },\n",
    "\n",
    "    'mcurie': {\n",
    "        'first': 'marie',\n",
    "        'last': 'curie',\n",
    "        'location': 'paris',\n",
    "        },\n",
    "\n",
    "    }\n",
    "\n",
    "for username, user_info in users.items():\n",
    "    print(f\"\\nUsername: {username}\")\n",
    "    full_name = f\"{user_info['first']} {user_info['last']}\"\n",
    "    location = user_info['location']\n",
    "\n",
    "    print(f\"\\tNome completo: {full_name.title()}\")\n",
    "    print(f\"\\tLocalização: {location.title()}\")"
   ]
  },
  {
   "cell_type": "code",
   "execution_count": 3,
   "metadata": {},
   "outputs": [
    {
     "name": "stdout",
     "output_type": "stream",
     "text": [
      "You ordered a thick-crust pizza with the following toppings:\n",
      "\tmushrooms\n",
      "\textra cheese\n"
     ]
    }
   ],
   "source": [
    " # Store information about a pizza being ordered.\n",
    "pizza = {\n",
    "    'crust': 'thick',\n",
    "    'toppings': ['mushrooms', 'extra cheese'],\n",
    "    }\n",
    "\n",
    "# Summarize the order.\n",
    "print(f\"You ordered a {pizza['crust']}-crust pizza \"\n",
    "    \"with the following toppings:\")\n",
    "\n",
    "for topping in pizza['toppings']:\n",
    "    print( \"\\t\" +topping)"
   ]
  },
  {
   "cell_type": "code",
   "execution_count": 4,
   "metadata": {},
   "outputs": [
    {
     "name": "stdout",
     "output_type": "stream",
     "text": [
      "\n",
      "Key: username\n",
      "Value: efermi\n",
      "\n",
      "Key: first\n",
      "Value: enrico\n",
      "\n",
      "Key: last\n",
      "Value: 0\n"
     ]
    }
   ],
   "source": [
    "user_0 = {\n",
    "    'username': 'efermi',\n",
    "    'first': 'enrico',\n",
    "    'last': '0',\n",
    "    }\n",
    "\n",
    "for key, value in user_0.items():\n",
    "    print(f\"\\nKey: {key}\")\n",
    "    print(f\"Value: {value}\")"
   ]
  },
  {
   "attachments": {},
   "cell_type": "markdown",
   "metadata": {},
   "source": [
    "### While"
   ]
  },
  {
   "cell_type": "code",
   "execution_count": 5,
   "metadata": {},
   "outputs": [
    {
     "name": "stdout",
     "output_type": "stream",
     "text": [
      "I'd love to go to Tefé!\n",
      "I'd love to go to Manaus!\n",
      "I'd love to go to Alvarães!\n"
     ]
    }
   ],
   "source": [
    "prompt = \"\\nPlease enter the name of a city you have visited:\"\n",
    "prompt += \"\\n(Enter 'quit' when you are finished.) \"\n",
    "\n",
    "while True:\n",
    "    city = input(prompt)\n",
    "    \n",
    "    if city == 'quit':\n",
    "        break\n",
    "    else:\n",
    "        print(f\"I'd love to go to {city.title()}!\")"
   ]
  },
  {
   "cell_type": "code",
   "execution_count": 10,
   "metadata": {},
   "outputs": [
    {
     "name": "stdout",
     "output_type": "stream",
     "text": [
      "0\n",
      "1\n",
      "2\n",
      "3\n",
      "4\n",
      "5\n",
      "6\n",
      "7\n",
      "8\n",
      "9\n",
      "10\n",
      "11\n"
     ]
    }
   ],
   "source": [
    "#DESAFIO\n",
    "\n",
    "a = 0\n",
    "print(a)\n",
    "while a < 10 or a%10 == 0:\n",
    "    a+=1\n",
    "    print(a)"
   ]
  },
  {
   "cell_type": "code",
   "execution_count": 12,
   "metadata": {},
   "outputs": [
    {
     "name": "stdout",
     "output_type": "stream",
     "text": [
      "['Kacia', 'Josy', 'Onis', 'Luiz']\n",
      "Verifying user: Luiz\n",
      "['Kacia', 'Josy', 'Onis']\n",
      "Verifying user: Onis\n",
      "['Kacia', 'Josy']\n",
      "Verifying user: Josy\n",
      "['Kacia']\n",
      "Verifying user: Kacia\n",
      "\n",
      "The following users have been confirmed:\n",
      "Luiz\n",
      "Onis\n",
      "Josy\n",
      "Kacia\n"
     ]
    }
   ],
   "source": [
    "# Verificando a lista de pessoas.\n",
    "unconfirmed_users = ['Kacia', 'Josy', 'Onis','Luiz']\n",
    "confirmed_users = []\n",
    "\n",
    "# Verify each user until there are no more unconfirmed users.\n",
    "#  Move each verified user into the list of confirmed users.\n",
    "while unconfirmed_users:\n",
    "    print(unconfirmed_users)\n",
    "    current_user = unconfirmed_users.pop()\n",
    "    \n",
    "    print(f\"Verifying user: {current_user.title()}\")\n",
    "    confirmed_users.append(current_user)\n",
    "    \n",
    "# Display all confirmed users.\n",
    "print(\"\\nThe following users have been confirmed:\")\n",
    "for confirmed_user in confirmed_users:\n",
    "    print(confirmed_user.title())"
   ]
  },
  {
   "cell_type": "code",
   "execution_count": 1,
   "metadata": {},
   "outputs": [
    {
     "data": {
      "text/plain": [
       "range(0, 5)"
      ]
     },
     "execution_count": 1,
     "metadata": {},
     "output_type": "execute_result"
    }
   ],
   "source": [
    "range(5)"
   ]
  },
  {
   "cell_type": "code",
   "execution_count": 12,
   "metadata": {},
   "outputs": [
    {
     "name": "stdout",
     "output_type": "stream",
     "text": [
      "['Alan', 'Laura', 'Josy', 'Luiz']\n",
      "['Moreira', 'Gonzaga', 'Queiroz', 'Soares']\n",
      "[8.0, 10.0, 9.0, 9.0]\n"
     ]
    }
   ],
   "source": [
    "# Desafio\n",
    "listadenomes = []\n",
    "listadesobremomes =[]\n",
    "listadenotas =[]\n",
    "\n",
    "\n",
    "\n",
    "for i in range(0,4):\n",
    "    \n",
    "    nomedoaluno = input( 'Digite o nome do aluno:\\n')\n",
    "    sobredoaluno = input( 'Digite o sobrenome do aluno:\\n')\n",
    "    notadoaluno = input( 'Digite a nota do aluno:\\n')\n",
    "\n",
    "    listadenomes.append(nomedoaluno)\n",
    "    listadesobremomes.append(sobredoaluno)\n",
    "    listadenotas.append(float(notadoaluno))\n",
    "\n",
    "\n",
    "print(listadenomes)\n",
    "print(listadesobremomes)\n",
    "print(listadenotas)\n",
    "\n",
    "\n",
    "\n",
    "\n",
    "\n",
    "alunos = {\n",
    "    'aluno01': {\n",
    "        'nome': listadenomes[0],\n",
    "        'sobrenome': listadesobremomes[0],\n",
    "        'nota': listadenotas[0],\n",
    "        },\n",
    "\n",
    "    'aluno02': {\n",
    "        'nome': listadenomes[1],\n",
    "        'sobrenome': listadesobremomes[1],\n",
    "        'nota': listadenotas[1],\n",
    "        },\n",
    "    'aluno03': {\n",
    "        'nome': listadenomes[2],\n",
    "        'sobrenome': listadesobremomes[2],\n",
    "        'nota': listadenotas[2],\n",
    "        },\n",
    "    'aluno04': {\n",
    "        'nome': listadenomes[3],\n",
    "        'sobrenome': listadesobremomes[3],\n",
    "        'nota': listadenotas[3],\n",
    "        },\n",
    "    }"
   ]
  },
  {
   "cell_type": "code",
   "execution_count": 13,
   "metadata": {},
   "outputs": [
    {
     "data": {
      "text/plain": [
       "{'aluno01': {'nome': 'Alan', 'sobrenome': 'Moreira', 'nota': 8.0},\n",
       " 'aluno02': {'nome': 'Laura', 'sobrenome': 'Gonzaga', 'nota': 10.0},\n",
       " 'aluno03': {'nome': 'Josy', 'sobrenome': 'Queiroz', 'nota': 9.0},\n",
       " 'aluno04': {'nome': 'Luiz', 'sobrenome': 'Soares', 'nota': 9.0}}"
      ]
     },
     "execution_count": 13,
     "metadata": {},
     "output_type": "execute_result"
    }
   ],
   "source": [
    "alunos"
   ]
  },
  {
   "cell_type": "code",
   "execution_count": null,
   "metadata": {},
   "outputs": [],
   "source": []
  }
 ],
 "metadata": {
  "kernelspec": {
   "display_name": "base",
   "language": "python",
   "name": "python3"
  },
  "language_info": {
   "codemirror_mode": {
    "name": "ipython",
    "version": 3
   },
   "file_extension": ".py",
   "mimetype": "text/x-python",
   "name": "python",
   "nbconvert_exporter": "python",
   "pygments_lexer": "ipython3",
   "version": "3.9.12"
  },
  "orig_nbformat": 4
 },
 "nbformat": 4,
 "nbformat_minor": 2
}
